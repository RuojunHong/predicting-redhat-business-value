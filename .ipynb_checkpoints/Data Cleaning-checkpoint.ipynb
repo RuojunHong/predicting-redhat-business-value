{
 "cells": [
  {
   "cell_type": "code",
   "execution_count": 6,
   "metadata": {
    "collapsed": false
   },
   "outputs": [
    {
     "data": {
      "text/plain": [
       "(Index(['people_id', 'char_1', 'group_1', 'char_2', 'date', 'char_3', 'char_4',\n",
       "        'char_5', 'char_6', 'char_7', 'char_8', 'char_9', 'char_10', 'char_11',\n",
       "        'char_12', 'char_13', 'char_14', 'char_15', 'char_16', 'char_17',\n",
       "        'char_18', 'char_19', 'char_20', 'char_21', 'char_22', 'char_23',\n",
       "        'char_24', 'char_25', 'char_26', 'char_27', 'char_28', 'char_29',\n",
       "        'char_30', 'char_31', 'char_32', 'char_33', 'char_34', 'char_35',\n",
       "        'char_36', 'char_37', 'char_38'],\n",
       "       dtype='object'),\n",
       " Index(['people_id', 'activity_id', 'date', 'activity_category', 'char_1',\n",
       "        'char_2', 'char_3', 'char_4', 'char_5', 'char_6', 'char_7', 'char_8',\n",
       "        'char_9', 'char_10', 'outcome'],\n",
       "       dtype='object'))"
      ]
     },
     "execution_count": 6,
     "metadata": {},
     "output_type": "execute_result"
    }
   ],
   "source": [
    "import pandas as pd\n",
    "import os\n",
    "# Code here\n",
    "cwd = os.getcwd()\n",
    "datadir = cwd + '/data/'\n",
    "f_people = datadir + 'people.csv'\n",
    "f_act_train=datadir+'act_train.csv'\n",
    "df_people = pd.read_csv(f_people, sep = ',')\n",
    "df_act_train = pd.read_csv(f_act_train,sep=',')\n",
    "df_people.columns, df_act_train.columns"
   ]
  },
  {
   "cell_type": "code",
   "execution_count": 7,
   "metadata": {
    "collapsed": false
   },
   "outputs": [
    {
     "data": {
      "text/plain": [
       "(    people_id  char_1      group_1  char_2        date   char_3   char_4  \\\n",
       " 0     ppl_100  type 2  group 17304  type 2  2021-06-29   type 5   type 5   \n",
       " 1  ppl_100002  type 2   group 8688  type 3  2021-01-06  type 28   type 9   \n",
       " 2  ppl_100003  type 2  group 33592  type 3  2022-06-10   type 4   type 8   \n",
       " 3  ppl_100004  type 2  group 22593  type 3  2022-07-20  type 40  type 25   \n",
       " 4  ppl_100006  type 2   group 6534  type 3  2022-07-27  type 40  type 25   \n",
       " 5   ppl_10001  type 2  group 25417  type 3  2022-10-14   type 6   type 6   \n",
       " 6  ppl_100010  type 2  group 17304  type 2  2022-09-01   type 8   type 7   \n",
       " 7  ppl_100013  type 2   group 4204  type 3  2023-01-24   type 4   type 8   \n",
       " 8  ppl_100019  type 2  group 45749  type 3  2023-03-26  type 40  type 25   \n",
       " 9  ppl_100025  type 2  group 36096  type 3  2022-08-26  type 14   type 6   \n",
       " \n",
       "    char_5  char_6   char_7   ...   char_29 char_30 char_31 char_32 char_33  \\\n",
       " 0  type 5  type 3  type 11   ...     False    True    True   False   False   \n",
       " 1  type 5  type 3  type 11   ...     False    True    True    True    True   \n",
       " 2  type 5  type 2   type 5   ...     False   False    True    True    True   \n",
       " 3  type 9  type 4  type 16   ...      True    True    True    True    True   \n",
       " 4  type 9  type 3   type 8   ...     False   False    True   False   False   \n",
       " 5  type 4  type 1   type 1   ...     False    True    True    True    True   \n",
       " 6  type 8  type 1   type 7   ...     False   False   False   False   False   \n",
       " 7  type 4  type 1   type 7   ...     False   False    True    True    True   \n",
       " 8  type 9  type 3   type 9   ...     False   False   False   False   False   \n",
       " 9  type 8  type 3   type 9   ...     False   False   False   False   False   \n",
       " \n",
       "   char_34 char_35 char_36 char_37 char_38  \n",
       " 0    True    True    True   False      36  \n",
       " 1    True    True    True   False      76  \n",
       " 2    True   False    True    True      99  \n",
       " 3    True    True    True    True      76  \n",
       " 4   False    True    True   False      84  \n",
       " 5    True    True    True    True      90  \n",
       " 6   False   False   False   False       2  \n",
       " 7    True   False    True    True      91  \n",
       " 8   False   False   False   False      84  \n",
       " 9   False   False   False   False      76  \n",
       " \n",
       " [10 rows x 41 columns],\n",
       "     people_id   activity_id        date activity_category char_1 char_2  \\\n",
       " 0     ppl_100  act2_1734928  2023-08-26            type 4    NaN    NaN   \n",
       " 1     ppl_100  act2_2434093  2022-09-27            type 2    NaN    NaN   \n",
       " 2     ppl_100  act2_3404049  2022-09-27            type 2    NaN    NaN   \n",
       " 3     ppl_100  act2_3651215  2023-08-04            type 2    NaN    NaN   \n",
       " 4     ppl_100  act2_4109017  2023-08-26            type 2    NaN    NaN   \n",
       " 5     ppl_100   act2_898576  2023-08-04            type 4    NaN    NaN   \n",
       " 6  ppl_100002  act2_1233489  2022-11-23            type 2    NaN    NaN   \n",
       " 7  ppl_100002  act2_1623405  2022-11-23            type 2    NaN    NaN   \n",
       " 8  ppl_100003  act2_1111598  2023-02-07            type 2    NaN    NaN   \n",
       " 9  ppl_100003  act2_1177453  2023-06-28            type 2    NaN    NaN   \n",
       " \n",
       "   char_3 char_4 char_5 char_6 char_7 char_8 char_9    char_10  outcome  \n",
       " 0    NaN    NaN    NaN    NaN    NaN    NaN    NaN    type 76        0  \n",
       " 1    NaN    NaN    NaN    NaN    NaN    NaN    NaN     type 1        0  \n",
       " 2    NaN    NaN    NaN    NaN    NaN    NaN    NaN     type 1        0  \n",
       " 3    NaN    NaN    NaN    NaN    NaN    NaN    NaN     type 1        0  \n",
       " 4    NaN    NaN    NaN    NaN    NaN    NaN    NaN     type 1        0  \n",
       " 5    NaN    NaN    NaN    NaN    NaN    NaN    NaN  type 1727        0  \n",
       " 6    NaN    NaN    NaN    NaN    NaN    NaN    NaN     type 1        1  \n",
       " 7    NaN    NaN    NaN    NaN    NaN    NaN    NaN     type 1        1  \n",
       " 8    NaN    NaN    NaN    NaN    NaN    NaN    NaN     type 1        1  \n",
       " 9    NaN    NaN    NaN    NaN    NaN    NaN    NaN     type 1        1  )"
      ]
     },
     "execution_count": 7,
     "metadata": {},
     "output_type": "execute_result"
    }
   ],
   "source": [
    "df_people.head(10),df_act_train.head(10)"
   ]
  },
  {
   "cell_type": "code",
   "execution_count": 10,
   "metadata": {
    "collapsed": false
   },
   "outputs": [
    {
     "data": {
      "text/html": [
       "<div>\n",
       "<table border=\"1\" class=\"dataframe\">\n",
       "  <thead>\n",
       "    <tr style=\"text-align: right;\">\n",
       "      <th></th>\n",
       "      <th>char_38</th>\n",
       "    </tr>\n",
       "  </thead>\n",
       "  <tbody>\n",
       "    <tr>\n",
       "      <th>count</th>\n",
       "      <td>189118.000000</td>\n",
       "    </tr>\n",
       "    <tr>\n",
       "      <th>mean</th>\n",
       "      <td>50.327399</td>\n",
       "    </tr>\n",
       "    <tr>\n",
       "      <th>std</th>\n",
       "      <td>35.752127</td>\n",
       "    </tr>\n",
       "    <tr>\n",
       "      <th>min</th>\n",
       "      <td>0.000000</td>\n",
       "    </tr>\n",
       "    <tr>\n",
       "      <th>25%</th>\n",
       "      <td>10.000000</td>\n",
       "    </tr>\n",
       "    <tr>\n",
       "      <th>50%</th>\n",
       "      <td>58.000000</td>\n",
       "    </tr>\n",
       "    <tr>\n",
       "      <th>75%</th>\n",
       "      <td>83.000000</td>\n",
       "    </tr>\n",
       "    <tr>\n",
       "      <th>max</th>\n",
       "      <td>100.000000</td>\n",
       "    </tr>\n",
       "  </tbody>\n",
       "</table>\n",
       "</div>"
      ],
      "text/plain": [
       "             char_38\n",
       "count  189118.000000\n",
       "mean       50.327399\n",
       "std        35.752127\n",
       "min         0.000000\n",
       "25%        10.000000\n",
       "50%        58.000000\n",
       "75%        83.000000\n",
       "max       100.000000"
      ]
     },
     "execution_count": 10,
     "metadata": {},
     "output_type": "execute_result"
    }
   ],
   "source": [
    "df_people[:].describe()"
   ]
  },
  {
   "cell_type": "code",
   "execution_count": null,
   "metadata": {
    "collapsed": true
   },
   "outputs": [],
   "source": []
  }
 ],
 "metadata": {
  "kernelspec": {
   "display_name": "Python 3",
   "language": "python",
   "name": "python3"
  },
  "language_info": {
   "codemirror_mode": {
    "name": "ipython",
    "version": 3
   },
   "file_extension": ".py",
   "mimetype": "text/x-python",
   "name": "python",
   "nbconvert_exporter": "python",
   "pygments_lexer": "ipython3",
   "version": "3.6.0"
  }
 },
 "nbformat": 4,
 "nbformat_minor": 2
}
